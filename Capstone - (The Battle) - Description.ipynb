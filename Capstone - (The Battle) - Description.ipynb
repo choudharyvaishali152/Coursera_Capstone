{
    "cells": [
        {
            "cell_type": "markdown",
            "metadata": {
                "collapsed": true
            },
            "source": "Project Description\n\nIn Module 3, we explored New York City and the city of Toronto and segmented and clustered their neighborhoods. Both cities are very diverse and \nare the financial capitals of their respective countries.One of the ideas would be to compare the neighborhoods of the two cities and determine \nhow similar or dissimilar they are.\n\nThis project and problem definition would be useful for those who are interested in open a new restaurant ,start a company or construct any mall ,\nschool. This will also be useful for those who want to buy or rent any property. This project will make easy for them to understand the geographical\nlocations and the advantages of different district so they can have a best choice to do all kind of investments.\n\n------------------------------------------------------------------------------------------------------------------------------\n\nDiscussion of The Background\n\nFor this project module , have used Toronto segmented and clustered neighborhoods to implement the appilication of foursquare location data.\n\nI would need to use the foursquare location data and information to solve this problem definition. The purpose of data science is target a huge \nor amount of audience and its meant to help a group of stakeholders to solve problem. That;s the reason , have explicitly described the audience ,\nto make surer sure how they can use this solution for there problem definition.\n\nFrom the results on New York, the lab especially tells 10 most common venues in each of the district. The data set is about the Toronto venues. \nIn order to convert the data into the dataframe - we will be transforming the data to Json files and then use Pandas to transform it into DataFrame. \nThey we will filter out that data to select specific columns to retrieve information in which we are interested. Then we have used Geopy library to get\nthe latitude and longitude values.\nWith the locations the map can be created and we will have a direct understanding of the neighborhoods and the purposed areas.\nAbove this, we will be using Folium library to show maps on different requirements.At last, different analysis on Toronto will give us the related\nbetter data to open a company and choose a good place to resident in.\n"
        },
        {
            "cell_type": "code",
            "execution_count": null,
            "metadata": {},
            "outputs": [],
            "source": ""
        }
    ],
    "metadata": {
        "kernelspec": {
            "display_name": "Python 3.6",
            "language": "python",
            "name": "python3"
        },
        "language_info": {
            "codemirror_mode": {
                "name": "ipython",
                "version": 3
            },
            "file_extension": ".py",
            "mimetype": "text/x-python",
            "name": "python",
            "nbconvert_exporter": "python",
            "pygments_lexer": "ipython3",
            "version": "3.6.8"
        }
    },
    "nbformat": 4,
    "nbformat_minor": 1
}
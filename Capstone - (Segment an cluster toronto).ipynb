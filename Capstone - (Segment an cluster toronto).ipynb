{
    "cells": [
        {
            "cell_type": "code",
            "execution_count": 68,
            "metadata": {},
            "outputs": [
                {
                    "data": {
                        "text/plain": "(103, 2)"
                    },
                    "execution_count": 68,
                    "metadata": {},
                    "output_type": "execute_result"
                }
            ],
            "source": "\nimport pandas as pd\nimport numpy as np\n# from sklearn.cluster import KMeans\nimport requests\n\nurl=\"https://en.wikipedia.org/wiki/List_of_postal_codes_of_Canada:_M\"\nr = requests.get(url)\ntables = pd.read_html(r.text)\n\ndf=pd.DataFrame(tables[0])\n\n# The dataframe will consist of three columns: PostalCode, Borough, and Neighborhood\n\ndf.columns=['Postcode','Borough','Neighbourhood']\ndf.drop([0],axis=0,inplace=True)\ndf.reset_index()\n\n# # Only process the cells that have an assigned borough. Ignore cells with a borough that is Not assigned.\n\ndf.drop(df[df['Borough']==\"Not assigned\"].index,axis=0, inplace=True)\n\n\n# More than one neighborhood can exist in one postal code area. \n# For example, in the table on the Wikipedia page, \n# you will notice that M5A is listed twice and has two neighborhoods: \n# Harbourfront and Regent Park. These two rows will be combined into one row with the neighborhoods \n# separated with a comma as shown in row 11 in the above table.\n\ndf1=df.groupby(\"Postcode\").agg(lambda y:','.join(set(y)))\n\n# If a cell has a borough but a Not assigned neighborhood, \n# then the neighborhood will be the same as the borough. ----> Here it happened for M9A\n# So for the 9th cell in the table on the Wikipedia page, \n# the value of the Borough and the Neighborhood columns will be Queen's Park.\n\ndf1.loc[df1['Neighbourhood']==\"Not assigned\",'Neighbourhood']=df1.loc[df1['Neighbourhood']==\"Not assigned\",'Borough']\n\n# In the last cell of your notebook, use the .shape method to print the number of rows of your dataframe.\ndf1.shape\n\n"
        },
        {
            "cell_type": "code",
            "execution_count": null,
            "metadata": {},
            "outputs": [],
            "source": ""
        },
        {
            "cell_type": "code",
            "execution_count": null,
            "metadata": {},
            "outputs": [],
            "source": "                "
        },
        {
            "cell_type": "code",
            "execution_count": 22,
            "metadata": {},
            "outputs": [],
            "source": ""
        },
        {
            "cell_type": "code",
            "execution_count": 23,
            "metadata": {},
            "outputs": [],
            "source": ""
        },
        {
            "cell_type": "code",
            "execution_count": 24,
            "metadata": {},
            "outputs": [],
            "source": ""
        },
        {
            "cell_type": "code",
            "execution_count": 25,
            "metadata": {},
            "outputs": [],
            "source": ""
        },
        {
            "cell_type": "code",
            "execution_count": 26,
            "metadata": {},
            "outputs": [],
            "source": ""
        },
        {
            "cell_type": "code",
            "execution_count": 27,
            "metadata": {},
            "outputs": [],
            "source": ""
        },
        {
            "cell_type": "code",
            "execution_count": 28,
            "metadata": {},
            "outputs": [],
            "source": ""
        },
        {
            "cell_type": "code",
            "execution_count": 1,
            "metadata": {},
            "outputs": [],
            "source": ""
        },
        {
            "cell_type": "code",
            "execution_count": null,
            "metadata": {},
            "outputs": [],
            "source": ""
        },
        {
            "cell_type": "code",
            "execution_count": null,
            "metadata": {},
            "outputs": [],
            "source": ""
        },
        {
            "cell_type": "code",
            "execution_count": null,
            "metadata": {},
            "outputs": [],
            "source": ""
        }
    ],
    "metadata": {
        "kernelspec": {
            "display_name": "Python 3.6",
            "language": "python",
            "name": "python3"
        },
        "language_info": {
            "codemirror_mode": {
                "name": "ipython",
                "version": 3
            },
            "file_extension": ".py",
            "mimetype": "text/x-python",
            "name": "python",
            "nbconvert_exporter": "python",
            "pygments_lexer": "ipython3",
            "version": "3.6.8"
        }
    },
    "nbformat": 4,
    "nbformat_minor": 1
}